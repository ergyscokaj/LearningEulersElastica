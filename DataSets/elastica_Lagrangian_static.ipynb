{
 "cells": [
  {
   "cell_type": "markdown",
   "id": "64683806",
   "metadata": {},
   "source": [
    "Variational formulation of Euler's elastica."
   ]
  },
  {
   "cell_type": "code",
   "execution_count": null,
   "id": "bd0d4127",
   "metadata": {},
   "outputs": [],
   "source": [
    "import autograd as ag\n",
    "import autograd.numpy as np\n",
    "from scipy import optimize as op\n",
    "from scipy import interpolate as ip\n",
    "from collections import namedtuple\n",
    "import matplotlib.pyplot as plt"
   ]
  },
  {
   "cell_type": "code",
   "execution_count": 2,
   "id": "c2a81acd-1bdc-415f-947d-788cb7962ee8",
   "metadata": {},
   "outputs": [],
   "source": [
    "from itertools import chain\n",
    "\n",
    "def apply_along_axis(func1d, axis, arr, *args, **kwargs):\n",
    "    # If arr is already one dimensional, just apply func1d directly\n",
    "    if arr.ndim <= 1:\n",
    "        return func1d(arr,  *args, **kwargs)\n",
    "    \n",
    "    # Extract shape and dimensions of arr for indexing\n",
    "    dims = arr.shape\n",
    "    Ni, Nk = dims[:axis],dims[axis+1:]\n",
    "    # Obtain shape of output of func1d by running it through the first slice\n",
    "    # along designated axis\n",
    "    arr_view = arr.swapaxes(-1,axis)\n",
    "    Nj_new = func1d(arr_view[(0,)*(len(arr_view.shape)-1)][:], *args, **kwargs).shape\n",
    "    # Generate new array by applying the function using index magic\n",
    "    func1d_arr = np.array([func1d(arr[ii + (slice(None,None,None),) + kk], *args, **kwargs) for ii in np.ndindex(Ni) for kk in np.ndindex(Nk)]).reshape( Ni + Nk + Nj_new )\n",
    "    # Reorder to get the same ordering as arr. axis is now replaced by func1d_dim\n",
    "    # new axes in its original position.\n",
    "    order = tuple(range(len(func1d_arr.shape)))\n",
    "    reordering_list = [order[:axis], order[axis:len(dims)-1], order[len(dims)-1:]]\n",
    "    reordering_list[-1], reordering_list[1] = reordering_list[1], reordering_list[-1]\n",
    "    return func1d_arr.transpose(tuple(chain.from_iterable(reordering_list)))"
   ]
  },
  {
   "cell_type": "markdown",
   "id": "bb1a726b",
   "metadata": {},
   "source": [
    "Construction of a container for all needed parameters and definition of paramaters"
   ]
  },
  {
   "cell_type": "code",
   "execution_count": 3,
   "id": "7825e71d-528d-4274-8254-0bf046eaf5cd",
   "metadata": {},
   "outputs": [],
   "source": [
    "# EI      = bending stiffness\n",
    "# L       = beam length   \n",
    "# n_dim   = dimension of the problem \n",
    "# n_nodes = number of nodes\n",
    "Param = namedtuple('Param', ('EI', 'L', 'n_dim', 'n_nodes'))\n",
    "param = Param(EI = 10, L = 3.3, n_dim = 2, n_nodes = 1001)\n",
    "\n",
    "# space step\n",
    "s_step = param.L/(param.n_nodes-1)"
   ]
  },
  {
   "cell_type": "code",
   "execution_count": 4,
   "id": "827c9e9a-9c78-40b3-90dc-c159d4c64c8e",
   "metadata": {},
   "outputs": [],
   "source": [
    "# initial and final slopes\n",
    "theta_in = np.pi/3 # initial tangent angle\n",
    "theta_end = np.pi/2 # final tangent angle\n",
    "\n",
    "Nt = 2 # number of equilibrium trajectories\n",
    "N = np.linspace(theta_in,theta_end,Nt)"
   ]
  },
  {
   "cell_type": "markdown",
   "id": "4584117d",
   "metadata": {},
   "source": [
    "Definition of the augmented Lagrangian and its discretisation"
   ]
  },
  {
   "cell_type": "code",
   "execution_count": 5,
   "id": "6442de12-f8da-4bcf-979f-e50e4feab248",
   "metadata": {},
   "outputs": [],
   "source": [
    "def Lagrangian(q,v,a,param):\n",
    "    return 0.5 *param.EI* np.sum(a**2,axis=0) # axis=0 if the first dim gives me the dimension of the problem !!\n",
    "\n",
    "def arclength(v,Lamdba,param):\n",
    "    return Lamdba*(np.sum(v**2,axis=0)-1) # no axial strain"
   ]
  },
  {
   "cell_type": "code",
   "execution_count": 6,
   "id": "4e1f64b9-e3e6-4379-a750-a2cb1de728fa",
   "metadata": {},
   "outputs": [],
   "source": [
    "# discretisation of the Lagrangian\n",
    "def discrete_L(qk,vk,qkp1,vkp1,param):\n",
    "    ak = ((-2*vkp1-4*vk)*s_step + 6*(qkp1-qk))/s_step**2\n",
    "    akp1 = ((4*vkp1+2*vk)*s_step - 6*(qkp1-qk)) /s_step**2\n",
    "    Ld_k = Lagrangian(qk,vk,ak,param)\n",
    "    Ld_kp1 = Lagrangian(qkp1,vkp1,akp1,param)\n",
    "    return 0.5*s_step*(Ld_k+Ld_kp1)\n",
    "\n",
    "def discrete_arclength(vk,lambdak,param):\n",
    "    return arclength(vk,lambdak,param)"
   ]
  },
  {
   "cell_type": "code",
   "execution_count": 7,
   "id": "d8704378-5760-4254-8d07-fe0ece957d4f",
   "metadata": {},
   "outputs": [],
   "source": [
    "# functions for working on QVL array\n",
    "\n",
    "def inflateQVL(QVL_flat, param, length=param.n_nodes):\n",
    "    # from ((n_dim*2 + 1)*n_nodes) array to (n_dim*2 + 1, n_nodes) array\n",
    "    return QVL_flat.reshape(param.n_dim*2 + 1, length, order='F')\n",
    "\n",
    "def separateQVL(QVL, param):\n",
    "    # it separates QVL into two arrays, QV (n_dim, 2, n_nodes) [dimension, q or v, node]\n",
    "    # and Lambda (n_nodes).\n",
    "    return (QVL[0:-1,:].reshape(param.n_dim,2,param.n_nodes,order='F'), QVL[-1,:])\n",
    "\n",
    "def joinQVL(QV, Lambda, param):\n",
    "    # it joins QV (n_dim, 2, n_nodes) and Lambda (n_nodes) into a QVL\n",
    "    # (n_dim*2 + 1, n_nodes) array.\n",
    "    return np.vstack((QV.reshape(param.n_dim*2,param.n_nodes,order='F'),Lambda))"
   ]
  },
  {
   "cell_type": "markdown",
   "id": "bb176442",
   "metadata": {},
   "source": [
    "For generating the data sets mentioned in celledoni2023neural, choose:\n",
    "- 'datacase == 1' for varying the angle of the tangents at both ends\n",
    "- 'datacase == 2' for varying the angle of the tangent at the right end only"
   ]
  },
  {
   "cell_type": "code",
   "execution_count": 8,
   "id": "698ffb8a-7339-4ad7-a153-0453aa28c144",
   "metadata": {},
   "outputs": [],
   "source": [
    "#set boundary conditions [qx,qy] [vx,vy]\n",
    "Q0 = np.array([0,0]) # fixed intial position \n",
    "Qn = np.array([3,0]) # fixed final position\n",
    "\n",
    "V0 = np.zeros((np.size(N),param.n_dim))\n",
    "Vn = np.zeros((np.size(N),param.n_dim))\n",
    "\n",
    "datacase = input(\"Choose datacase \")\n",
    "datacase = int(datacase)\n",
    "\n",
    "if datacase == 1: # both-ends\n",
    "    for i in range(np.size(N)):\n",
    "        V0[i,:] = np.array([np.cos(N[i]),np.sin(N[i])]) \n",
    "        Vn[i,:] = np.array([np.cos(N[i]),-np.sin(N[i])]) \n",
    "elif datacase == 2: # right-end\n",
    "    for i in range(np.size(N)):\n",
    "        V0[i,:] = ([np.cos(0),np.sin(0)])\n",
    "        Vn[i,:] = np.array([np.cos(N[i]),-np.sin(N[i])])"
   ]
  },
  {
   "cell_type": "markdown",
   "id": "b2c95390",
   "metadata": {},
   "source": [
    "new discrete Lagrangian with 1d-array input"
   ]
  },
  {
   "cell_type": "code",
   "execution_count": 9,
   "id": "226e4166-8dbf-455c-a6ac-1e998b885933",
   "metadata": {},
   "outputs": [],
   "source": [
    "def oneD_Ld(QVL_flat,param):\n",
    "    QV = separateQVL(inflateQVL(QVL_flat, param, param.n_nodes), param)[0]\n",
    "    Qk = QV[:,0,0:-1]\n",
    "    Vk = QV[:,1,0:-1]\n",
    "    Qkp1 = QV[:,0,1:]\n",
    "    Vkp1 = QV[:,1,1:]\n",
    "    return discrete_L(Qk,Vk,Qkp1,Vkp1,param)\n",
    "\n",
    "def oneD_arclen(QVL_flat,param):\n",
    "    QV, Lambda = separateQVL(inflateQVL(QVL_flat, param, param.n_nodes), param)\n",
    "    Vk = QV[:,1,1:-1] # Only inner nodes necessary\n",
    "    Lambdak = Lambda[1:-1] # Only inner nodes necessary\n",
    "    return discrete_arclength(Vk,Lambdak,param)"
   ]
  },
  {
   "cell_type": "markdown",
   "id": "288ad44c",
   "metadata": {},
   "source": [
    "Complete action Sd"
   ]
  },
  {
   "cell_type": "code",
   "execution_count": 10,
   "id": "a25e799d-8d35-4220-acfa-2137b5b7e041",
   "metadata": {},
   "outputs": [],
   "source": [
    "def complete_Sd(QVL_flat, param):\n",
    "    Ld_all = np.sum(apply_along_axis(oneD_Ld, 0, QVL_flat, param))\n",
    "    gl_all = np.sum(oneD_arclen(QVL_flat, param))\n",
    "    return Ld_all + gl_all"
   ]
  },
  {
   "cell_type": "code",
   "execution_count": 11,
   "id": "8007c555-5b9c-46a8-90c6-0625c53def74",
   "metadata": {},
   "outputs": [],
   "source": [
    "def separateBC(QVL):\n",
    "    # it separates the BCs from QVL\n",
    "    return QVL[:, 1:-1], np.vstack((QVL[:, 0], QVL[:, -1])).transpose()\n",
    "\n",
    "def joinBC(QVL1, QVLbound, param):\n",
    "    # it joins BCs to QVL1\n",
    "    return np.hstack((QVLbound[:,0, None], QVL1, QVLbound[:,-1, None]))"
   ]
  },
  {
   "cell_type": "markdown",
   "id": "e430330c",
   "metadata": {},
   "source": [
    "Discrete Euler-Lagrange equations"
   ]
  },
  {
   "cell_type": "code",
   "execution_count": 12,
   "id": "40ae6737-255c-46e4-abc5-c0269d407e9f",
   "metadata": {},
   "outputs": [],
   "source": [
    "def DEL(QVL1_flat, QVLbound_flat, param):\n",
    "    QVL1 = inflateQVL(QVL1_flat, param, param.n_nodes-2)\n",
    "    QVLbound = inflateQVL(QVLbound_flat, param, 2)\n",
    "    return ag.grad(lambda y: complete_Sd(joinBC(y, QVLbound, param).flatten(order='F'),param))(QVL1).flatten(order='F')\n",
    "\n",
    "# Jacobian of the discrete Euler-Lagrange equations\n",
    "def DEL_automatic_jacobian(QVL1_flat, QVLbound_flat, param):\n",
    "    return ag.jacobian(lambda y: DEL(y,QVLbound_flat,param))(QVL1_flat)"
   ]
  },
  {
   "cell_type": "markdown",
   "id": "e833c56e",
   "metadata": {},
   "source": [
    "Partial action: sum of the Lds along the beam minus BCs"
   ]
  },
  {
   "cell_type": "code",
   "execution_count": 13,
   "id": "d995e81e-5e3c-4d70-98a9-d7c010853b28",
   "metadata": {},
   "outputs": [],
   "source": [
    "def bending_Sd_bc(QVL1_flat,QVLbound_flat,param):\n",
    "    QVL1 = inflateQVL(QVL1_flat, param, param.n_nodes-2)\n",
    "    QVLbound = inflateQVL(QVLbound_flat, param, 2)\n",
    "    QVL_flat = joinBC(QVL1,QVLbound,param).flatten(order='F')\n",
    "    Ld_all = np.sum(apply_along_axis(oneD_Ld, 0, QVL_flat, param))\n",
    "    return Ld_all\n",
    "\n",
    "# constraints\n",
    "def con(QVL1_flat,param):\n",
    "    QVL1 = inflateQVL(QVL1_flat,param,param.n_nodes-2)\n",
    "    # a1 = inflateQV(a1_flat, param, param.n_nodes-2)\n",
    "    # abound = inflateQVL(a_flat, param, 2)\n",
    "    return np.sum(QVL1[2:4,:]**2,axis=0)-1\n",
    "\n",
    "cons = {'type':'eq', 'fun':con, 'args':(param,)}"
   ]
  },
  {
   "cell_type": "markdown",
   "id": "243b3d77",
   "metadata": {},
   "source": [
    "Solution of the system"
   ]
  },
  {
   "cell_type": "code",
   "execution_count": 14,
   "id": "2c5e83f0-df52-42d9-b492-af3ba01336bb",
   "metadata": {},
   "outputs": [
    {
     "name": "stdout",
     "output_type": "stream",
     "text": [
      "`xtol` termination condition is satisfied.\n",
      "sol min, action 329.58654287022176\n",
      "The solution converged.\n",
      "sol DEL, action 9.695403610362872\n",
      "The maximum number of function evaluations is exceeded.\n",
      "sol min, action 1021.919562794486\n",
      "The solution converged.\n",
      "sol DEL, action 45.75254228890124\n"
     ]
    }
   ],
   "source": [
    "coord = np.linspace(0,(param.n_nodes-1)*s_step,param.n_nodes) # array of spatial coordinate\n",
    "trajectories1 = np.zeros((np.size(N),2*param.n_dim*param.n_nodes)) # collect solutions\n",
    "cvsplines = np.zeros((np.size(N),2*param.n_dim*param.n_nodes)) # collect cubic slpines\n",
    "Lambda = np.zeros((np.size(N),param.n_nodes)) # array of Lagrange multiplier\n",
    "sol_min_matrix = np.zeros((np.size(N),2*param.n_dim*param.n_nodes)) # collect solutions of min(Sd)\n",
    "\n",
    "for i in range(np.size(N)):\n",
    "    \n",
    "    # initial guess\n",
    "    # intialize QV array using spline interpolation\n",
    "    Qspline = ip.CubicSpline((0,(param.n_nodes-1)*s_step), (Q0,Qn), bc_type=((1,V0[i,:]),(1,Vn[i,:])))\n",
    "    Vspline = Qspline.derivative()\n",
    "    QV = np.hstack((Qspline(coord),Vspline(coord))).transpose()\n",
    "    \n",
    "    cvsplines[i,:] = QV.flatten(order='F')\n",
    "    QVL = joinQVL(QV,Lambda[i,:],param)\n",
    "    \n",
    "    QVL1, QVLbound  = separateBC(QVL)\n",
    "    \n",
    "    # solution of min(Sd)\n",
    "    sol_min = op.minimize(bending_Sd_bc,QVL1.flatten(order='F'),args=(QVLbound.flatten(order='F'),param,),method='trust-constr',constraints=cons, options = {'maxiter': 10000})\n",
    "    print(sol_min.message)\n",
    "    \n",
    "    QVL2 = inflateQVL(sol_min.x, param, length=param.n_nodes-2) # min solution\n",
    "    QVL2_all = joinBC(QVL2,QVLbound, param)\n",
    "    QV2, L0 = separateQVL(QVL2_all, param) # new QV to attach to the real Lambdas\n",
    "    QVL_min = joinQVL(QV2, np.hstack([0,np.array(sol_min.v).flatten(),0]), param) # real QVL with real Lambdas\n",
    "    print('sol min, action',complete_Sd(QVL_min.flatten(order='F'),param)) # deformation energy of min solution\n",
    "    \n",
    "    QVL2_full = joinBC(QVL2, QVLbound, param)\n",
    "    QV2, Lambda2 = separateQVL(QVL2_full, param)\n",
    "    sol_min_matrix[i,:] = QV2.flatten(order='F')\n",
    "    \n",
    "    # guarantee the DEL=0 with min solution\n",
    "    sol = op.root(DEL,QVL2.flatten(order='F'),args=(QVLbound.flatten(order='F'),param),jac=DEL_automatic_jacobian)\n",
    "    QVL1_sol = inflateQVL(sol.x, param, length=param.n_nodes-2)\n",
    "    print(sol.message)\n",
    "    QVL_sol = joinBC(QVL1_sol, QVLbound, param)\n",
    "    print('sol DEL, action',complete_Sd(QVL_sol.flatten(order='F'),param)) # deformation energy of DEL solution\n",
    "    \n",
    "    QV_sol, Lambda_sol = separateQVL(QVL_sol, param)\n",
    "    \n",
    "    Lambda[i,:] = Lambda_sol.flatten(order='F')\n",
    "    trajectories1[i,:] = QV_sol.flatten(order='F')"
   ]
  },
  {
   "cell_type": "code",
   "execution_count": 17,
   "id": "124bbfc3-8e87-4e08-8f06-56e6215e848f",
   "metadata": {},
   "outputs": [],
   "source": [
    "# saving the results to txt\n",
    "np.savetxt('2_elastica_solutions_1001_nodes.txt', trajectories1, fmt='%-7.4f', delimiter=' ', header='static 2D elastica: solutions * [q_x, q_y, qp_x, qp_y ..]')"
   ]
  },
  {
   "cell_type": "markdown",
   "id": "025262e3",
   "metadata": {},
   "source": [
    "Plotting"
   ]
  },
  {
   "cell_type": "code",
   "execution_count": 28,
   "id": "f987ec3f-9ab8-4689-b45f-f02de4fcbc68",
   "metadata": {},
   "outputs": [
    {
     "data": {
      "image/png": "[encoded data removed]",
      "text/plain": [
       "<Figure size 936x648 with 1 Axes>"
      ]
     },
     "metadata": {
      "needs_background": "light"
     },
     "output_type": "display_data"
    }
   ],
   "source": [
    "QV_sol1 = trajectories1.reshape(Nt, param.n_dim*2, param.n_nodes, order='F')\n",
    "spline = cvsplines.reshape(Nt, param.n_dim*2, param.n_nodes, order='F')\n",
    "QV_sol_min = sol_min_matrix.reshape(Nt, param.n_dim*2, param.n_nodes, order='F')\n",
    "\n",
    "fig1, ax1 = plt.subplots(figsize=(13, 9))\n",
    "\n",
    "# for n in range(Nt):\n",
    "#     ax1.plot(QV_sol1[n,0,:],QV_sol1[n,1,:],color='blue')\n",
    "#     ax1.plot(spline[n,0,:],spline[n,1,:],color='red')\n",
    "#     ax1.plot(QV_sol_min[n,0,:],QV_sol_min[n,1,:],'-',color='green')\n",
    "\n",
    "ax1.plot(QV_sol1[0,0,:],QV_sol1[0,1,:],'--', color='blue', label = 'op.root 1')\n",
    "ax1.plot(spline[0,0,:],spline[0,1,:],'-', color='blue', label = 'spline 1')\n",
    "ax1.plot(QV_sol_min[0,0,:],QV_sol_min[0,1,:],'+',color='blue', label = 'op.minimize 1')\n",
    "ax1.plot(QV_sol1[1,0,:],QV_sol1[1,1,:],'--', color='red', label = 'op.root 2')\n",
    "ax1.plot(spline[1,0,:],spline[1,1,:],'-', color='red', label = 'spline 2')\n",
    "ax1.plot(QV_sol_min[1,0,:],QV_sol_min[1,1,:],'-+',color='red', label = 'op.minimize 2')\n",
    "ax1.set_aspect('equal')\n",
    "plt.legend()\n",
    "plt.xlabel('x')\n",
    "plt.ylabel('y')\n",
    "plt.show()"
   ]
  },
  {
   "cell_type": "code",
   "execution_count": 19,
   "id": "18851175-b7c2-4e8a-847d-ef8dc21d3e97",
   "metadata": {},
   "outputs": [],
   "source": [
    "# fig1.savefig(f'/Users/ergysc/Documents/GitHub/beam_NN/101nodes_5000iter_new.pdf')"
   ]
  },
  {
   "cell_type": "code",
   "execution_count": null,
   "id": "449e977f",
   "metadata": {},
   "outputs": [],
   "source": []
  },
  {
   "cell_type": "code",
   "execution_count": null,
   "id": "7d3a5dbe",
   "metadata": {},
   "outputs": [],
   "source": []
  }
 ],
 "metadata": {
  "kernelspec": {
   "display_name": "Python 3 (ipykernel)",
   "language": "python",
   "name": "python3"
  },
  "language_info": {
   "codemirror_mode": {
    "name": "ipython",
    "version": 3
   },
   "file_extension": ".py",
   "mimetype": "text/x-python",
   "name": "python",
   "nbconvert_exporter": "python",
   "pygments_lexer": "ipython3",
   "version": "3.9.12"
  }
 },
 "nbformat": 4,
 "nbformat_minor": 5
}
