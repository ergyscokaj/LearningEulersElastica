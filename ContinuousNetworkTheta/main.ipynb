{
 "cells": [
  {
   "cell_type": "code",
   "execution_count": null,
   "metadata": {
    "id": "MRiGdYNurXDQ"
   },
   "outputs": [],
   "source": [
    "import torch\n",
    "import torch.nn as nn\n",
    "import numpy as np\n",
    "import torch.nn as nn\n",
    "import os\n",
    "from Scripts.createDataset import getData, getDataLoaders, loadData\n",
    "from Scripts.network import network\n",
    "from Scripts.training import trainModel\n",
    "from Scripts.plotting import compute_errors, plotTestResults"
   ]
  },
  {
   "cell_type": "code",
   "execution_count": null,
   "metadata": {
    "colab": {
     "base_uri": "https://localhost:8080/"
    },
    "id": "_9X2TbMiHAzd",
    "outputId": "98ac289f-f186-461b-9f86-0d72e1bcabef"
   },
   "outputs": [],
   "source": [
    "device = torch.device(\"cuda:0\" if torch.cuda.is_available() else \"cpu\")\n",
    "print(device)"
   ]
  },
  {
   "cell_type": "code",
   "execution_count": null,
   "metadata": {
    "id": "7DfhwyhluQbk"
   },
   "outputs": [],
   "source": [
    "torch.manual_seed(1)\n",
    "np.random.seed(1)"
   ]
  },
  {
   "cell_type": "code",
   "execution_count": null,
   "metadata": {
    "id": "sNeMMFAvuF2U"
   },
   "outputs": [],
   "source": [
    "# decide case\n",
    "_,trajectories = loadData()\n",
    "shuffle_idx = np.random.permutation(len(trajectories))\n",
    "trajectories = trajectories[shuffle_idx]\n",
    "number_samples,number_components = trajectories.shape"
   ]
  },
  {
   "cell_type": "code",
   "execution_count": null,
   "metadata": {
    "id": "tX6pAVYJDxsV"
   },
   "outputs": [],
   "source": [
    "L = 3.3"
   ]
  },
  {
   "cell_type": "code",
   "execution_count": null,
   "metadata": {
    "id": "CmMFB5O6vg0s"
   },
   "outputs": [],
   "source": [
    "#Importing and shuffling the trajectories\n",
    "\n",
    "number_samples,number_components = trajectories.shape\n",
    "#Randomize the order of the trajectories\n",
    "indices = np.random.permutation(len(trajectories))\n",
    "trajectories = trajectories[indices]\n",
    "\n",
    "number_elements = int(number_components/4)-1\n",
    "data_train, data_test, data_val, x_train, x_test, x_val, y_train, y_test, y_val = getData(number_elements,number_samples,trajectories)"
   ]
  },
  {
   "cell_type": "code",
   "execution_count": null,
   "metadata": {
    "id": "RNZ8Z2kJzdDv"
   },
   "outputs": [],
   "source": [
    "training_trajectories = np.concatenate((x_train[:,:4],y_train,x_train[:,-4:]),axis=1)\n",
    "test_trajectories = np.concatenate((x_test[:,:4],y_test,x_test[:,-4:]),axis=1)\n",
    "val_trajectories = np.concatenate((x_val[:,:4],y_val,x_val[:,-4:]),axis=1)"
   ]
  },
  {
   "cell_type": "code",
   "execution_count": null,
   "metadata": {
    "id": "iwolUMn_ysjs"
   },
   "outputs": [],
   "source": [
    "torch.manual_seed(1)\n",
    "np.random.seed(1)"
   ]
  },
  {
   "cell_type": "code",
   "execution_count": null,
   "metadata": {},
   "outputs": [],
   "source": [
    "impose_bcs = input(\"Want to impose the boundary conditions? Choose among 'Yes' and 'No'\")==\"Yes\"\n",
    "pre_trained = input(\"Want to work with a pre-trained model? Choose among 'Yes' and 'No'\")==\"Yes\""
   ]
  },
  {
   "cell_type": "code",
   "execution_count": null,
   "metadata": {
    "id": "JmacxbaC7qjE"
   },
   "outputs": [],
   "source": [
    "params = {}\n",
    "\n",
    "if pre_trained:\n",
    "    if impose_bcs:\n",
    "        params = {'act': 'tanh',\n",
    "                 'n_layers': 8,\n",
    "                 'hidden_nodes': 58,\n",
    "                 'networkarch': 0,\n",
    "                 'lr': 5e-3,\n",
    "                 'weight_decay': 0}\n",
    "    else:\n",
    "        params = {'act': 'tanh',\n",
    "                 'n_layers': 8,\n",
    "                 'hidden_nodes': 93,\n",
    "                 'networkarch': 0,\n",
    "                 'lr': 5e-3,\n",
    "                 'weight_decay': 0}\n",
    "        \n",
    "if params=={}:\n",
    "    print(\"No parameters have been specified. Let's input them:\\n\\n\")\n",
    "    act = input(\"What activation function to use? Choose among 'sin', 'sigmoid', 'swish', 'tanh' \")\n",
    "    nlayers = int(input(\"How many layers do you want the network to have? \"))\n",
    "    hidden_nodes = int(input(\"How many hidden nodes do you want the network to have? \"))\n",
    "\n",
    "    lr = float(input(\"What learning rate do you want to use? \"))\n",
    "    weight_decay = float(input(\"What weight decay do you want to use? \"))\n",
    "    networkarch = int(input(\"Network architecture: Type 0 for MULT, 1 for ResNet, 2 for MLP: \"))\n",
    "    params = {\"act\": act,\n",
    "              \"n_layers\":nlayers,\n",
    "              \"hidden_nodes\":hidden_nodes,\n",
    "              \"lr\":lr,\n",
    "              \"weight_decay\":weight_decay,\n",
    "              \"networkarch\":networkarch}\n",
    "\n",
    "act = params[\"act\"]\n",
    "nlayers = params[\"n_layers\"]\n",
    "hidden_nodes = params[\"hidden_nodes\"]\n",
    "\n",
    "netarch = params[\"networkarch\"]\n",
    "if netarch == 0:\n",
    "    is_deeponet = True\n",
    "    is_res = False\n",
    "elif netarch == 1:\n",
    "    is_deeponet = False\n",
    "    is_res = True\n",
    "else:\n",
    "    is_deeponet = False\n",
    "    is_res = False\n",
    "\n",
    "model = network(impose_bcs=impose_bcs,act_name=act, nlayers=nlayers, hidden_nodes = hidden_nodes, is_deeponet=is_deeponet, is_res=is_res)\n",
    "model.to(device);\n",
    "batch_size = 1024\n",
    "trainloader, testloader, valloader = getDataLoaders(batch_size,data_train,data_test,data_val,type='regression')\n",
    "\n",
    "if pre_trained:\n",
    "    original_dir = os.getcwd()\n",
    "    root_dir = os.path.normpath(os.getcwd() + os.sep + os.pardir)\n",
    "    os.chdir(root_dir+\"/ContinuousNetworkTheta/TrainedModels\")\n",
    "    \n",
    "    if impose_bcs:\n",
    "        model.load_state_dict(torch.load(\"BcsTrainedModel.pt\",map_location=device))\n",
    "    else:\n",
    "        model.load_state_dict(torch.load(\"noBcsTrainedModel.pt\",map_location=device))\n",
    "    os.chdir(original_dir)\n",
    "else:\n",
    "    weight_decay = params[\"weight_decay\"]\n",
    "    lr = params[\"lr\"]\n",
    "    optimizer = torch.optim.Adam(model.parameters(),lr=lr,weight_decay=weight_decay)\n",
    "\n",
    "    criterion = nn.MSELoss()\n",
    "    epochs = 100\n",
    "    print(\"Now the training has started\")\n",
    "    loss = trainModel(number_elements,device,model,criterion,optimizer,epochs,trainloader,valloader)"
   ]
  },
  {
   "cell_type": "code",
   "execution_count": null,
   "metadata": {
    "colab": {
     "base_uri": "https://localhost:8080/",
     "height": 1000
    },
    "id": "fj2BaQRfyxtS",
    "outputId": "c3be0e9d-d657-40c0-e9d1-7916889ce9bd",
    "scrolled": false
   },
   "outputs": [],
   "source": [
    "model.eval();\n",
    "res_derivative,theta = plotTestResults(model,device,number_elements,number_components,x_train,x_test,y_train,y_test)"
   ]
  },
  {
   "cell_type": "code",
   "execution_count": null,
   "metadata": {
    "id": "M61GE0fY3IUv"
   },
   "outputs": [],
   "source": [
    "test_error, train_error, val_error, pred_train_all, pred_test_all, pred_val_all = compute_errors(model,device,number_elements,number_components,x_train,x_test,x_val,y_train,y_test,y_val)\n"
   ]
  },
  {
   "cell_type": "code",
   "execution_count": null,
   "metadata": {
    "colab": {
     "base_uri": "https://localhost:8080/"
    },
    "id": "PUO7on-9ecdB",
    "outputId": "69dfb69d-dd32-495f-e410-6b5f3b4e6075"
   },
   "outputs": [],
   "source": [
    "print(f\"Train error is {train_error}, validation error is {val_error}, and test error is {test_error}.\")"
   ]
  }
 ],
 "metadata": {
  "accelerator": "GPU",
  "colab": {
   "machine_shape": "hm",
   "provenance": []
  },
  "kernelspec": {
   "display_name": "Python 3 (ipykernel)",
   "language": "python",
   "name": "python3"
  },
  "language_info": {
   "codemirror_mode": {
    "name": "ipython",
    "version": 3
   },
   "file_extension": ".py",
   "mimetype": "text/x-python",
   "name": "python",
   "nbconvert_exporter": "python",
   "pygments_lexer": "ipython3",
   "version": "3.9.12"
  }
 },
 "nbformat": 4,
 "nbformat_minor": 1
}
